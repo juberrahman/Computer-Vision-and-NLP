{
  "nbformat": 4,
  "nbformat_minor": 0,
  "metadata": {
    "colab": {
      "name": "tweet_classification.ipynb",
      "provenance": []
    },
    "kernelspec": {
      "name": "python3",
      "display_name": "Python 3"
    }
  },
  "cells": [
    {
      "cell_type": "markdown",
      "metadata": {
        "id": "_CPofn4oBjWN",
        "colab_type": "text"
      },
      "source": [
        "Tweets pose specific problems to NLP, including the fact they are shorter texts. There are also plenty of platform-specific conventions to give you hassles: mentions, #hashtags, emoji, links and short-hand phrases (ikr?). Can we overcome those challenges and build a useful classifier for these two tweeters? Yes! Let's get started.\n",
        "\n",
        "To begin, we will import all the tools we need from scikit-learn. We will need to properly vectorize our data (CountVectorizer and TfidfVectorizer). And we will also want to import some models, including MultinomialNB from the naive_bayes module, LinearSVC from the svm module and PassiveAggressiveClassifier from the linear_model module. Finally, we'll need sklearn.metrics and train_test_split and GridSearchCV from the model_selection module to evaluate and optimize our model.\n"
      ]
    },
    {
      "cell_type": "code",
      "metadata": {
        "id": "zlZaB8AtBbCI",
        "colab_type": "code",
        "colab": {}
      },
      "source": [
        "# Set seed for reproducibility\n",
        "import random; random.seed(53)\n",
        "\n",
        "# Import all we need from sklearn\n",
        "from sklearn.feature_extraction.text import CountVectorizer, TfidfVectorizer\n",
        "from sklearn.model_selection import train_test_split\n",
        "from sklearn.naive_bayes import MultinomialNB\n",
        "from sklearn.svm import LinearSVC\n",
        "from sklearn import metrics"
      ],
      "execution_count": 13,
      "outputs": []
    },
    {
      "cell_type": "code",
      "metadata": {
        "id": "9nNtQRhLBw0D",
        "colab_type": "code",
        "colab": {}
      },
      "source": [
        "import pandas as pd\n",
        "\n",
        "# Load data\n",
        "tweet_df = pd.read_csv('tweets.csv')\n",
        "\n",
        "# Create target\n",
        "y = tweet_df.author\n",
        "\n",
        "# Split training and testing data\n",
        "X_train, X_test, y_train, y_test = train_test_split(tweet_df['status'], y, random_state=53, test_size=0.33)"
      ],
      "execution_count": 14,
      "outputs": []
    },
    {
      "cell_type": "markdown",
      "metadata": {
        "id": "m4BRrH7HBzuj",
        "colab_type": "text"
      },
      "source": [
        "## Vectorize the tweets"
      ]
    },
    {
      "cell_type": "code",
      "metadata": {
        "id": "wW9jj-30Cles",
        "colab_type": "code",
        "colab": {}
      },
      "source": [
        "# Initialize count vectorizer\n",
        "count_vectorizer = CountVectorizer(stop_words='english', max_df=0.9, min_df=0.05)\n",
        "\n",
        "# Create count train and test variables\n",
        "count_train = count_vectorizer.fit_transform(X_train)\n",
        "count_test = count_vectorizer.transform(X_test)\n",
        "\n",
        "# Initialize tfidf vectorizer\n",
        "tfidf_vectorizer = TfidfVectorizer(stop_words='english', max_df=0.9, min_df=0.05)\n",
        "\n",
        "# Create tfidf train and test variables\n",
        "tfidf_train = tfidf_vectorizer.fit_transform(X_train)\n",
        "tfidf_test = tfidf_vectorizer.transform(X_test)"
      ],
      "execution_count": 15,
      "outputs": []
    },
    {
      "cell_type": "markdown",
      "metadata": {
        "id": "1M_JzLaVB6jE",
        "colab_type": "text"
      },
      "source": [
        "## Training a multinomial naive Bayes model"
      ]
    },
    {
      "cell_type": "code",
      "metadata": {
        "id": "8N8ufbToB-ht",
        "colab_type": "code",
        "colab": {
          "base_uri": "https://localhost:8080/",
          "height": 52
        },
        "outputId": "a5006761-b7db-4b63-eb0a-471a81700c72"
      },
      "source": [
        "# Create a MulitnomialNB model\n",
        "tfidf_nb = MultinomialNB()\n",
        "\n",
        "# ... Train your model here ...\n",
        "tfidf_nb.fit(tfidf_train, y_train)\n",
        "\n",
        "# Run predict on your TF-IDF test data to get your predictions\n",
        "tfidf_nb_pred = tfidf_nb.predict(tfidf_test)\n",
        "\n",
        "# Calculate the accuracy of your predictions\n",
        "tfidf_nb_score = metrics.accuracy_score(y_test,tfidf_nb_pred)\n",
        "\n",
        "# Create a MulitnomialNB model\n",
        "count_nb = MultinomialNB()\n",
        "# ... Train your model here ...\n",
        "count_nb.fit(count_train, y_train)\n",
        "# Run predict on your count test data to get your predictions\n",
        "count_nb_pred = tfidf_nb.predict(count_test)\n",
        "\n",
        "# Calculate the accuracy of your predictions\n",
        "count_nb_score = metrics.accuracy_score(y_test,count_nb_pred)\n",
        "\n",
        "print('NaiveBayes Tfidf Score: ', tfidf_nb_score)\n",
        "print('NaiveBayes Count Score: ', count_nb_score)"
      ],
      "execution_count": 16,
      "outputs": [
        {
          "output_type": "stream",
          "text": [
            "NaiveBayes Tfidf Score:  0.803030303030303\n",
            "NaiveBayes Count Score:  0.803030303030303\n"
          ],
          "name": "stdout"
        }
      ]
    },
    {
      "cell_type": "markdown",
      "metadata": {
        "id": "jGZwAonNCBT7",
        "colab_type": "text"
      },
      "source": [
        "## Evaluating our model using a confusion matrix"
      ]
    },
    {
      "cell_type": "code",
      "metadata": {
        "id": "0JiI6fvUCErd",
        "colab_type": "code",
        "colab": {
          "base_uri": "https://localhost:8080/",
          "height": 640
        },
        "outputId": "674cb93c-1229-4214-d1ee-b8f1cb4ebd8e"
      },
      "source": [
        "%matplotlib inline\n",
        "\n",
        "from helper_functions import plot_confusion_matrix\n",
        "\n",
        "# Calculate the confusion matrices for the tfidf_nb model and count_nb models\n",
        "tfidf_nb_cm = metrics.confusion_matrix(y_test, tfidf_nb_pred, labels=['Donald J. Trump', 'Justin Trudeau'])\n",
        "count_nb_cm = metrics.confusion_matrix(y_test, count_nb_pred, labels=['Donald J. Trump', 'Justin Trudeau'])\n",
        "\n",
        "# Plot the tfidf_nb_cm confusion matrix\n",
        "plot_confusion_matrix(tfidf_nb_cm, classes=['Donald J. Trump', 'Justin Trudeau'], title=\"TF-IDF NB Confusion Matrix\")\n",
        "\n",
        "# Plot the count_nb_cm confusion matrix without overwriting the first plot \n",
        "plot_confusion_matrix(count_nb_cm, classes=['Donald J. Trump', 'Justin Trudeau'], title=\"count_nb_cm NB Confusion Matrix\", figure=1)"
      ],
      "execution_count": 17,
      "outputs": [
        {
          "output_type": "stream",
          "text": [
            "Confusion matrix, without normalization\n",
            "Confusion matrix, without normalization\n"
          ],
          "name": "stdout"
        },
        {
          "output_type": "display_data",
          "data": {
            "image/png": "[encoded data removed]",
            "text/plain": [
              "<Figure size 432x288 with 2 Axes>"
            ]
          },
          "metadata": {
            "tags": [],
            "needs_background": "light"
          }
        },
        {
          "output_type": "display_data",
          "data": {
            "image/png": "[encoded data removed]",
            "text/plain": [
              "<Figure size 432x288 with 2 Axes>"
            ]
          },
          "metadata": {
            "tags": [],
            "needs_background": "light"
          }
        }
      ]
    },
    {
      "cell_type": "markdown",
      "metadata": {
        "id": "BILwllO1CHD_",
        "colab_type": "text"
      },
      "source": [
        "## Trying out another classifier: Linear SVC"
      ]
    },
    {
      "cell_type": "code",
      "metadata": {
        "id": "TnZpM3VqCSaz",
        "colab_type": "code",
        "colab": {
          "base_uri": "https://localhost:8080/",
          "height": 346
        },
        "outputId": "a5c55d22-ac70-41c0-8fb8-d882f848f093"
      },
      "source": [
        "# Create a LinearSVM model\n",
        "tfidf_svc = LinearSVC()\n",
        "\n",
        "# ... Train your model here ...\n",
        "tfidf_svc.fit(tfidf_train,y_train)\n",
        "\n",
        "# Run predict on your tfidf test data to get your predictions\n",
        "tfidf_svc_pred = tfidf_svc.predict(tfidf_test)\n",
        "\n",
        "# Calculate your accuracy using the metrics module\n",
        "tfidf_svc_score = metrics.accuracy_score(tfidf_svc_pred, y_test)\n",
        "\n",
        "print(\"LinearSVC Score:   %0.3f\" % tfidf_svc_score)\n",
        "\n",
        "# Calculate the confusion matrices for the tfidf_svc model\n",
        "svc_cm = metrics.confusion_matrix(y_test, tfidf_svc_pred, labels=['Donald J. Trump', 'Justin Trudeau'])\n",
        "  \n",
        "# Plot the confusion matrix using the plot_confusion_matrix function\n",
        "plot_confusion_matrix(svc_cm, classes=['Donald J. Trump', 'Justin Trudeau'], title=\"TF-IDF LinearSVC Confusion Matrix\")"
      ],
      "execution_count": 18,
      "outputs": [
        {
          "output_type": "stream",
          "text": [
            "LinearSVC Score:   0.841\n",
            "Confusion matrix, without normalization\n"
          ],
          "name": "stdout"
        },
        {
          "output_type": "display_data",
          "data": {
            "image/png": "[encoded data removed]",
            "text/plain": [
              "<Figure size 432x288 with 2 Axes>"
            ]
          },
          "metadata": {
            "tags": [],
            "needs_background": "light"
          }
        }
      ]
    },
    {
      "cell_type": "markdown",
      "metadata": {
        "id": "M0TbV42fCVO2",
        "colab_type": "text"
      },
      "source": [
        "## Introspecting our top model"
      ]
    },
    {
      "cell_type": "code",
      "metadata": {
        "id": "52C0cQiZCYTh",
        "colab_type": "code",
        "colab": {
          "base_uri": "https://localhost:8080/",
          "height": 35
        },
        "outputId": "5cfb1bfe-ddeb-4857-b6ca-9e2b9bfd8900"
      },
      "source": [
        "from helper_functions import plot_and_return_top_features\n",
        "\n",
        "# Import pprint from pprint\n",
        "from pprint import pprint\n",
        "\n",
        "# Get the top features using the plot_and_return_top_features function and your top model and tfidf vectorizer\n",
        "top_features = tfidf_vectorizer.get_feature_names()[:10]\n",
        "\n",
        "# pprint the top features\n",
        "pprint(top_features)"
      ],
      "execution_count": 20,
      "outputs": [
        {
          "output_type": "stream",
          "text": [
            "['amp', 'canada', 'du', 'et', 'great', 'https', 'la', 'le', 'les', 'nous']\n"
          ],
          "name": "stdout"
        }
      ]
    },
    {
      "cell_type": "markdown",
      "metadata": {
        "id": "Lmw--oH7CaQ1",
        "colab_type": "text"
      },
      "source": [
        "## Bonus: can you write a Trump or Trudeau tweet?"
      ]
    },
    {
      "cell_type": "code",
      "metadata": {
        "id": "075ovW7jCdF3",
        "colab_type": "code",
        "colab": {
          "base_uri": "https://localhost:8080/",
          "height": 52
        },
        "outputId": "bd0034e6-6cb5-43ec-9593-a8a4cda923be"
      },
      "source": [
        "# Write two tweets as strings, one which you want to classify as Trump and one as Trudeau\n",
        "trump_tweet = \"For our Country to be sending 80 million UNSOLICITED BALLOTS is very unfair and a roadmap to disaster. Even recent small and easier to control elections which did this are a catastrophic disaster. Fraudulent & missing Ballots like never seen before. 20% and 30% off. STOP!\"\n",
        "trudeau_tweet = \"Canada and Ukraine are united by common values, shared priorities, and strong people-to-people ties. Today, we join our Ukrainian friends in celebrating the 29th anniversary of their country’s independence. Slava Ukraini!\"\n",
        "\n",
        "# Vectorize each tweet using the TF-IDF vectorizer's transform method\n",
        "# Note: `transform` needs the string in a list object (i.e. [trump_tweet])\n",
        "trump_tweet_vectorized = tfidf_vectorizer.transform([trump_tweet])\n",
        "trudeau_tweet_vectorized = tfidf_vectorizer.transform([trudeau_tweet])\n",
        "\n",
        "# Call the predict method on your vectorized tweets\n",
        "trump_tweet_pred = tfidf_nb.predict(trump_tweet_vectorized )\n",
        "trudeau_tweet_pred = tfidf_nb.predict(trudeau_tweet_vectorized)\n",
        "\n",
        "print(\"Predicted Trump tweet\", trump_tweet_pred)\n",
        "print(\"Predicted Trudeau tweet\", trudeau_tweet_pred)"
      ],
      "execution_count": 21,
      "outputs": [
        {
          "output_type": "stream",
          "text": [
            "Predicted Trump tweet ['Donald J. Trump']\n",
            "Predicted Trudeau tweet ['Justin Trudeau']\n"
          ],
          "name": "stdout"
        }
      ]
    }
  ]
}