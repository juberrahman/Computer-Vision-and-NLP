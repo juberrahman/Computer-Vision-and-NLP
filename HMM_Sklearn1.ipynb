{
 "cells": [
  {
   "cell_type": "markdown",
   "metadata": {},
   "source": [
    "## Introduction to Hidden Markov Models with Python Networkx and Sklearn\n",
    "\n",
    "\n",
    "<br>Submitted by Juber Rahman\n",
    "<br>Collected from Rakib Al-fahad, EECE, UofM\n",
    "https://rakibalfahad.github.io/\n"
   ]
  },
  {
   "cell_type": "markdown",
   "metadata": {},
   "source": [
    "## What is the Markov Property?\n",
    "\n",
    "\"...a random process where the future is independent of the past given the present.\"\n",
    "\n",
    "\n",
    "Assume a simplified coin toss game with a fair coin. Suspend disbelief and assume that the Markov property is not yet known and we would like to predict the probability of flipping heads after 10 flips. Under the assumption of conditional dependence (the coin has memory of past states and the future state depends on the sequence of past states) we must record the specific sequence that lead up to the 11th flip and the joint probabilities of those flips. So imagine after 10 flips we have a random sequence of heads and tails. The joint probability of that sequence is 0.5^10 = 0.0009765625. Under conditional dependence, the probability of heads on the next flip is 0.0009765625 * 0.5 = 0.00048828125. \n",
    "\n",
    "Is that the real probability of flipping heads on the 11th flip? Hell no!\n",
    "\n",
    "We know that the event of flipping the coin does not depend on the result of the flip before it. The coin has no memory. The process of successive flips does not encode the prior results. Each flip is a unique event with equal probability of heads or tails, aka conditionally independent of past states. This is the Markov property.  "
   ]
  },
  {
   "cell_type": "markdown",
   "metadata": {},
   "source": [
    "## What is a Markov Model?\n",
    "\n",
    "A Markov chain (model) describes a stochastic process where the assumed probability of future state(s) depends only on the current process state and not on any the states that preceded it (shocker).\n",
    "\n",
    "Let's get into a simple example. Assume you want to model the future probability that your dog is in one of three states given its current state. To do this <font color='red'>we need to specify the state space, the initial probabilities, and the transition probabilities.</font>\n",
    "\n",
    "Imagine you have a very lazy fat dog, so we **define the state space as sleeping, eating, or pooping. We will set the initial probabilities to 35%, 35%, and 30% respectively.**"
   ]
  },
  {
   "cell_type": "code",
   "execution_count": 1,
   "metadata": {},
   "outputs": [
    {
     "name": "stdout",
     "output_type": "stream",
     "text": [
      "2018-11-19T12:57:42\n",
      "\n",
      "CPython 2.7.15\n",
      "IPython 5.8.0\n",
      "\n",
      "compiler   : GCC 7.2.0\n",
      "system     : Linux\n",
      "release    : 4.15.0-38-generic\n",
      "machine    : x86_64\n",
      "processor  : x86_64\n",
      "CPU cores  : 24\n",
      "interpreter: 64bit\n"
     ]
    }
   ],
   "source": [
    "## PC config\n",
    "\n",
    "%load_ext watermark\n",
    "%watermark"
   ]
  },
  {
   "cell_type": "code",
   "execution_count": 2,
   "metadata": {},
   "outputs": [
    {
     "data": {
      "text/html": [
       "<div>\n",
       "<style scoped>\n",
       "    .dataframe tbody tr th:only-of-type {\n",
       "        vertical-align: middle;\n",
       "    }\n",
       "\n",
       "    .dataframe tbody tr th {\n",
       "        vertical-align: top;\n",
       "    }\n",
       "\n",
       "    .dataframe thead th {\n",
       "        text-align: right;\n",
       "    }\n",
       "</style>\n",
       "<table border=\"1\" class=\"dataframe\">\n",
       "  <thead>\n",
       "    <tr style=\"text-align: right;\">\n",
       "      <th></th>\n",
       "      <th>0</th>\n",
       "      <th>1</th>\n",
       "      <th>2</th>\n",
       "    </tr>\n",
       "  </thead>\n",
       "  <tbody>\n",
       "    <tr>\n",
       "      <th>0</th>\n",
       "      <td>0.7</td>\n",
       "      <td>0.2</td>\n",
       "      <td>0.1</td>\n",
       "    </tr>\n",
       "    <tr>\n",
       "      <th>1</th>\n",
       "      <td>0.2</td>\n",
       "      <td>0.5</td>\n",
       "      <td>0.3</td>\n",
       "    </tr>\n",
       "    <tr>\n",
       "      <th>2</th>\n",
       "      <td>0.1</td>\n",
       "      <td>0.3</td>\n",
       "      <td>0.6</td>\n",
       "    </tr>\n",
       "  </tbody>\n",
       "</table>\n",
       "</div>"
      ],
      "text/plain": [
       "     0    1    2\n",
       "0  0.7  0.2  0.1\n",
       "1  0.2  0.5  0.3\n",
       "2  0.1  0.3  0.6"
      ]
     },
     "execution_count": 2,
     "metadata": {},
     "output_type": "execute_result"
    }
   ],
   "source": [
    "import numpy as np\n",
    "import pandas as pd\n",
    "import networkx as nx\n",
    "import matplotlib.pyplot as plt\n",
    "%matplotlib inline\n",
    "\n",
    "# create state space and initial state probabilities\n",
    "\n",
    "states = ['0', '1', '2']\n",
    "pi = [0.6, 0.3, 0.1]\n",
    "state_space = pd.Series(pi, index=states, name='states')\n",
    "\n",
    "# create transition matrix\n",
    "# equals transition probability matrix of changing states given a state\n",
    "# matrix is size (M x M) where M is number of states\n",
    "\n",
    "q_df = pd.DataFrame(columns=states, index=states)\n",
    "q_df.loc[states[0]] = [0.7, 0.2, 0.1]\n",
    "q_df.loc[states[1]] = [0.2, 0.5, 0.3]\n",
    "q_df.loc[states[2]] = [0.1, 0.3, 0.6]\n",
    "\n",
    "\n",
    "q_df\n",
    "\n"
   ]
  },
  {
   "cell_type": "markdown",
   "metadata": {},
   "source": [
    "# Graph Visualization"
   ]
  },
  {
   "cell_type": "code",
   "execution_count": 3,
   "metadata": {},
   "outputs": [],
   "source": [
    "from pprint import pprint \n",
    "\n",
    "# create a function that maps transition probability dataframe \n",
    "# to markov edges and weights\n",
    "\n",
    "def _get_markov_edges(Q):\n",
    "    edges = {}\n",
    "    for col in Q.columns:\n",
    "        for idx in Q.index:\n",
    "            edges[(idx,col)] = Q.loc[idx,col]\n",
    "    return edges\n",
    "\n",
    "edges_wts = _get_markov_edges(q_df)"
   ]
  },
  {
   "cell_type": "code",
   "execution_count": 4,
   "metadata": {},
   "outputs": [
    {
     "name": "stdout",
     "output_type": "stream",
     "text": [
      "OutMultiEdgeDataView([('1', '1', {'weight': 0.5, 'label': 0.5}), ('1', '0', {'weight': 0.2, 'label': 0.2}), ('1', '2', {'weight': 0.3, 'label': 0.3}), ('0', '1', {'weight': 0.2, 'label': 0.2}), ('0', '0', {'weight': 0.7, 'label': 0.7}), ('0', '2', {'weight': 0.1, 'label': 0.1}), ('2', '1', {'weight': 0.3, 'label': 0.3}), ('2', '0', {'weight': 0.1, 'label': 0.1}), ('2', '2', {'weight': 0.6, 'label': 0.6})])\n"
     ]
    },
    {
     "data": {
      "image/png": "[encoded data removed]",
      "text/plain": [
       "<Figure size 432x288 with 1 Axes>"
      ]
     },
     "metadata": {
      "needs_background": "light"
     },
     "output_type": "display_data"
    }
   ],
   "source": [
    "# create graph object\n",
    "G = nx.MultiDiGraph()\n",
    "\n",
    "# nodes correspond to states\n",
    "G.add_nodes_from(states)\n",
    "#print(r'Nodes:\\n{G.nodes()}\\n')\n",
    "\n",
    "# edges represent transition probabilities\n",
    "for k, v in edges_wts.items():\n",
    "    tmp_origin, tmp_destination = k[0], k[1]\n",
    "    G.add_edge(tmp_origin, tmp_destination, weight=v, label=v)\n",
    "#print('Edges:')\n",
    "pprint(G.edges(data=True))    \n",
    "\n",
    "pos = nx.drawing.nx_pydot.graphviz_layout(G, prog='dot')\n",
    "nx.draw_networkx(G, pos)\n",
    "\n",
    "# create edge labels for jupyter plot but is not necessary\n",
    "edge_labels = {(n1,n2):d['label'] for n1,n2,d in G.edges(data=True)}\n",
    "nx.draw_networkx_edge_labels(G , pos, edge_labels=edge_labels)\n",
    "nx.drawing.nx_pydot.write_dot(G, 'markov.dot')\n"
   ]
  },
  {
   "cell_type": "code",
   "execution_count": 5,
   "metadata": {},
   "outputs": [
    {
     "data": {
      "image/svg+xml": [
       "<?xml version=\"1.0\" encoding=\"UTF-8\" standalone=\"no\"?>\n",
       "<!DOCTYPE svg PUBLIC \"-//W3C//DTD SVG 1.1//EN\"\n",
       " \"http://www.w3.org/Graphics/SVG/1.1/DTD/svg11.dtd\">\n",
       "<!-- Generated by graphviz version 2.40.1 (20161225.0304)\n",
       " -->\n",
       "<!-- Title: %3 Pages: 1 -->\n",
       "<svg width=\"153pt\" height=\"218pt\"\n",
       " viewBox=\"0.00 0.00 153.00 218.00\" xmlns=\"http://www.w3.org/2000/svg\" xmlns:xlink=\"http://www.w3.org/1999/xlink\">\n",
       "<g id=\"graph0\" class=\"graph\" transform=\"scale(1 1) rotate(0) translate(4 214)\">\n",
       "<title>%3</title>\n",
       "<polygon fill=\"#ffffff\" stroke=\"transparent\" points=\"-4,4 -4,-214 149,-214 149,4 -4,4\"/>\n",
       "<!-- 1 -->\n",
       "<g id=\"node1\" class=\"node\">\n",
       "<title>1</title>\n",
       "<ellipse fill=\"none\" stroke=\"#000000\" cx=\"49\" cy=\"-192\" rx=\"27\" ry=\"18\"/>\n",
       "<text text-anchor=\"middle\" x=\"49\" y=\"-188.3\" font-family=\"Times,serif\" font-size=\"14.00\" fill=\"#000000\">1</text>\n",
       "</g>\n",
       "<!-- 1&#45;&gt;1 -->\n",
       "<g id=\"edge1\" class=\"edge\">\n",
       "<title>1&#45;&gt;1</title>\n",
       "<path fill=\"none\" stroke=\"#000000\" d=\"M73.5325,-199.752C84.5078,-200.4902 94,-197.9063 94,-192 94,-188.0317 89.7151,-185.5632 83.5743,-184.5944\"/>\n",
       "<polygon fill=\"#000000\" stroke=\"#000000\" points=\"83.6472,-181.0949 73.5325,-184.248 83.4059,-188.0908 83.6472,-181.0949\"/>\n",
       "<text text-anchor=\"middle\" x=\"103\" y=\"-188.3\" font-family=\"Times,serif\" font-size=\"14.00\" fill=\"#000000\">0.5</text>\n",
       "</g>\n",
       "<!-- 0 -->\n",
       "<g id=\"node2\" class=\"node\">\n",
       "<title>0</title>\n",
       "<ellipse fill=\"none\" stroke=\"#000000\" cx=\"27\" cy=\"-105\" rx=\"27\" ry=\"18\"/>\n",
       "<text text-anchor=\"middle\" x=\"27\" y=\"-101.3\" font-family=\"Times,serif\" font-size=\"14.00\" fill=\"#000000\">0</text>\n",
       "</g>\n",
       "<!-- 1&#45;&gt;0 -->\n",
       "<g id=\"edge2\" class=\"edge\">\n",
       "<title>1&#45;&gt;0</title>\n",
       "<path fill=\"none\" stroke=\"#000000\" d=\"M44.4416,-173.9735C41.4328,-162.0751 37.4312,-146.2508 34.0199,-132.7606\"/>\n",
       "<polygon fill=\"#000000\" stroke=\"#000000\" points=\"37.3974,-131.8401 31.5526,-123.0034 30.611,-133.5563 37.3974,-131.8401\"/>\n",
       "<text text-anchor=\"middle\" x=\"48\" y=\"-144.8\" font-family=\"Times,serif\" font-size=\"14.00\" fill=\"#000000\">0.2</text>\n",
       "</g>\n",
       "<!-- 2 -->\n",
       "<g id=\"node3\" class=\"node\">\n",
       "<title>2</title>\n",
       "<ellipse fill=\"none\" stroke=\"#000000\" cx=\"49\" cy=\"-18\" rx=\"27\" ry=\"18\"/>\n",
       "<text text-anchor=\"middle\" x=\"49\" y=\"-14.3\" font-family=\"Times,serif\" font-size=\"14.00\" fill=\"#000000\">2</text>\n",
       "</g>\n",
       "<!-- 1&#45;&gt;2 -->\n",
       "<g id=\"edge3\" class=\"edge\">\n",
       "<title>1&#45;&gt;2</title>\n",
       "<path fill=\"none\" stroke=\"#000000\" d=\"M65.0636,-177.4309C77.7209,-164.5996 94.0334,-144.6276 99,-123 106.0458,-92.3183 100.8827,-79.908 83,-54 79.7647,-49.3128 75.9269,-44.6405 72.015,-40.2895\"/>\n",
       "<polygon fill=\"#000000\" stroke=\"#000000\" points=\"74.4189,-37.7374 65.008,-32.8706 69.3299,-42.5439 74.4189,-37.7374\"/>\n",
       "<text text-anchor=\"middle\" x=\"111\" y=\"-101.3\" font-family=\"Times,serif\" font-size=\"14.00\" fill=\"#000000\">0.3</text>\n",
       "</g>\n",
       "<!-- 0&#45;&gt;1 -->\n",
       "<g id=\"edge4\" class=\"edge\">\n",
       "<title>0&#45;&gt;1</title>\n",
       "<path fill=\"none\" stroke=\"#000000\" d=\"M44.1786,-119.4058C50.0486,-125.4054 55.9094,-132.871 59,-141 61.8538,-148.5061 61.5147,-156.9572 59.8578,-164.789\"/>\n",
       "<polygon fill=\"#000000\" stroke=\"#000000\" points=\"56.4376,-164.021 57.0783,-174.5964 63.1724,-165.9297 56.4376,-164.021\"/>\n",
       "<text text-anchor=\"middle\" x=\"70\" y=\"-144.8\" font-family=\"Times,serif\" font-size=\"14.00\" fill=\"#000000\">0.2</text>\n",
       "</g>\n",
       "<!-- 0&#45;&gt;0 -->\n",
       "<g id=\"edge5\" class=\"edge\">\n",
       "<title>0&#45;&gt;0</title>\n",
       "<path fill=\"none\" stroke=\"#000000\" d=\"M51.5325,-112.752C62.5078,-113.4902 72,-110.9063 72,-105 72,-101.0317 67.7151,-98.5632 61.5743,-97.5944\"/>\n",
       "<polygon fill=\"#000000\" stroke=\"#000000\" points=\"61.6472,-94.0949 51.5325,-97.248 61.4059,-101.0908 61.6472,-94.0949\"/>\n",
       "<text text-anchor=\"middle\" x=\"81\" y=\"-101.3\" font-family=\"Times,serif\" font-size=\"14.00\" fill=\"#000000\">0.7</text>\n",
       "</g>\n",
       "<!-- 0&#45;&gt;2 -->\n",
       "<g id=\"edge6\" class=\"edge\">\n",
       "<title>0&#45;&gt;2</title>\n",
       "<path fill=\"none\" stroke=\"#000000\" d=\"M31.5584,-86.9735C34.5672,-75.0751 38.5688,-59.2508 41.9801,-45.7606\"/>\n",
       "<polygon fill=\"#000000\" stroke=\"#000000\" points=\"45.389,-46.5563 44.4474,-36.0034 38.6026,-44.8401 45.389,-46.5563\"/>\n",
       "<text text-anchor=\"middle\" x=\"48\" y=\"-57.8\" font-family=\"Times,serif\" font-size=\"14.00\" fill=\"#000000\">0.1</text>\n",
       "</g>\n",
       "<!-- 2&#45;&gt;1 -->\n",
       "<g id=\"edge7\" class=\"edge\">\n",
       "<title>2&#45;&gt;1</title>\n",
       "<path fill=\"none\" stroke=\"#000000\" d=\"M69.5335,-29.8092C79.6594,-36.2062 91.6684,-44.6977 101,-54 123.8935,-76.8216 133.6869,-92.1601 124,-123 116.9566,-145.4239 97.0272,-163.1556 79.4821,-175.0265\"/>\n",
       "<polygon fill=\"#000000\" stroke=\"#000000\" points=\"77.1506,-172.3626 70.6053,-180.6939 80.9175,-178.2626 77.1506,-172.3626\"/>\n",
       "<text text-anchor=\"middle\" x=\"136\" y=\"-101.3\" font-family=\"Times,serif\" font-size=\"14.00\" fill=\"#000000\">0.3</text>\n",
       "</g>\n",
       "<!-- 2&#45;&gt;0 -->\n",
       "<g id=\"edge8\" class=\"edge\">\n",
       "<title>2&#45;&gt;0</title>\n",
       "<path fill=\"none\" stroke=\"#000000\" d=\"M57.0783,-35.4036C60.6043,-45.4548 63.1043,-58.2048 59,-69 57.1166,-73.9536 54.2046,-78.6609 50.8887,-82.9402\"/>\n",
       "<polygon fill=\"#000000\" stroke=\"#000000\" points=\"48.139,-80.7674 44.1786,-90.5942 53.4026,-85.382 48.139,-80.7674\"/>\n",
       "<text text-anchor=\"middle\" x=\"70\" y=\"-57.8\" font-family=\"Times,serif\" font-size=\"14.00\" fill=\"#000000\">0.1</text>\n",
       "</g>\n",
       "<!-- 2&#45;&gt;2 -->\n",
       "<g id=\"edge9\" class=\"edge\">\n",
       "<title>2&#45;&gt;2</title>\n",
       "<path fill=\"none\" stroke=\"#000000\" d=\"M73.5325,-25.752C84.5078,-26.4902 94,-23.9063 94,-18 94,-14.0317 89.7151,-11.5632 83.5743,-10.5944\"/>\n",
       "<polygon fill=\"#000000\" stroke=\"#000000\" points=\"83.6472,-7.0949 73.5325,-10.248 83.4059,-14.0908 83.6472,-7.0949\"/>\n",
       "<text text-anchor=\"middle\" x=\"103\" y=\"-14.3\" font-family=\"Times,serif\" font-size=\"14.00\" fill=\"#000000\">0.6</text>\n",
       "</g>\n",
       "</g>\n",
       "</svg>\n"
      ],
      "text/plain": [
       "<graphviz.files.Source at 0x7fe4bcf61fd0>"
      ]
     },
     "execution_count": 5,
     "metadata": {},
     "output_type": "execute_result"
    }
   ],
   "source": [
    "import graphviz\n",
    "\n",
    "with open(\"markov.dot\") as f:\n",
    "    dot_graph = f.read()\n",
    "\n",
    "\n",
    "graphviz.Source(dot_graph)\n"
   ]
  },
  {
   "cell_type": "markdown",
   "metadata": {},
   "source": [
    "# hmmlearn package"
   ]
  },
  {
   "cell_type": "code",
   "execution_count": 3,
   "metadata": {},
   "outputs": [],
   "source": [
    "import numpy as np\n",
    "from hmmlearn import hmm\n",
    "np.random.seed(42)\n",
    "\n",
    "model = hmm.GaussianHMM(n_components=3, covariance_type=\"full\")\n",
    "\n",
    "model.startprob_ = np.array([0.5, 0.3, 0.2])\n",
    "\n",
    "model.transmat_ = np.array([[0.7, 0.2, 0.1],\n",
    "                            [0.2, 0.5, 0.3],\n",
    "                           [0.1, 0.3, 0.6]])\n",
    "\n",
    "\n",
    "\n",
    "#change model means\n",
    "model.means_ = np.array([[0.5, 0.0], [-2.0, -3.0], [5.0, 15.0]])\n",
    "model.covars_ = np.tile(np.identity(2), (3, 1, 1))\n",
    "X, Z = model.sample(2000)"
   ]
  },
  {
   "cell_type": "code",
   "execution_count": 4,
   "metadata": {},
   "outputs": [
    {
     "data": {
      "text/plain": [
       "array([[  0.5,   0. ],\n",
       "       [ -2. ,  -3. ],\n",
       "       [  5. ,  15. ]])"
      ]
     },
     "execution_count": 4,
     "metadata": {},
     "output_type": "execute_result"
    }
   ],
   "source": [
    "model.means_"
   ]
  },
  {
   "cell_type": "markdown",
   "metadata": {},
   "source": [
    "Training HMM parameters and inferring the hidden states\n",
    "You can train an HMM by calling the fit method. The input is a matrix of concatenated sequences of observations (aka samples) along with the lengths of the sequences (see Working with multiple sequences).\n",
    "\n",
    "Note, since the EM algorithm is a gradient-based optimization method, it will generally get stuck in local optima. You should in general try to run fit with various initializations and select the highest scored model.\n",
    "\n",
    "The score of the model can be calculated by the score method.\n",
    "\n",
    "The inferred optimal hidden states can be obtained by calling predict method. The predict method can be specified with decoder algorithm. Currently the Viterbi algorithm (\"viterbi\"), and maximum a posteriori estimation (\"map\") are supported.\n",
    "\n",
    "This time, the input is a single sequence of observed values. Note, the states in remodel will have a different order than those in the generating model."
   ]
  },
  {
   "cell_type": "markdown",
   "metadata": {},
   "source": [
    "  \n",
    "### Hidden Markov Model with Gaussian emissions."
   ]
  },
  {
   "cell_type": "code",
   "execution_count": 6,
   "metadata": {
    "scrolled": true
   },
   "outputs": [
    {
     "name": "stdout",
     "output_type": "stream",
     "text": [
      "model means:\n",
      "[[  0.5   0. ]\n",
      " [ -2.   -3. ]\n",
      " [  5.   15. ]]\n",
      "remodel means:\n",
      "[[  0.43704512   0.05124881]\n",
      " [  4.95569176  14.9361755 ]\n",
      " [ -1.99260396  -2.97239455]]\n",
      "model co-variance:\n",
      "[[[ 1.  0.]\n",
      "  [ 0.  1.]]\n",
      "\n",
      " [[ 1.  0.]\n",
      "  [ 0.  1.]]\n",
      "\n",
      " [[ 1.  0.]\n",
      "  [ 0.  1.]]]\n",
      "remodel co-variance:\n",
      "[[[ 0.98331224  0.        ]\n",
      "  [ 0.          1.04960133]]\n",
      "\n",
      " [[ 1.01002775  0.        ]\n",
      "  [ 0.          0.91110048]]\n",
      "\n",
      " [[ 0.92220532  0.        ]\n",
      "  [ 0.          0.97564649]]]\n"
     ]
    },
    {
     "name": "stderr",
     "output_type": "stream",
     "text": [
      "C:\\ProgramData\\Anaconda3\\lib\\site-packages\\sklearn\\utils\\deprecation.py:77: DeprecationWarning: Function distribute_covar_matrix_to_match_covariance_type is deprecated; The function distribute_covar_matrix_to_match_covariance_typeis deprecated in 0.18 and will be removed in 0.20.\n",
      "  warnings.warn(msg, category=DeprecationWarning)\n",
      "         1      -11518.0204             +nan\n",
      "         2       -8940.7575       +2577.2628\n",
      "         3       -8040.1128        +900.6447\n",
      "         4       -7850.8296        +189.2832\n",
      "         5       -7539.0852        +311.7445\n",
      "         6       -7382.6605        +156.4247\n",
      "         7       -7360.0102         +22.6503\n",
      "         8       -7355.9574          +4.0529\n",
      "         9       -7355.0542          +0.9032\n",
      "        10       -7354.8480          +0.2062\n",
      "        11       -7354.8011          +0.0469\n",
      "        12       -7354.7905          +0.0106\n",
      "        13       -7354.7881          +0.0024\n",
      "        14       -7354.7876          +0.0005\n",
      "        15       -7354.7874          +0.0001\n",
      "        16       -7354.7874          +0.0000\n"
     ]
    }
   ],
   "source": [
    "a=np.array([0.5, 0.3, 0.2])\n",
    "remodel = hmm.GaussianHMM(n_components=3,algorithm='viterbi',\n",
    "                          tol=0.0001,\n",
    "                          startprob_prior=2, \n",
    "                          transmat_prior=1.0,\n",
    "                          min_covar=0.001, \n",
    "                          covariance_type=\"diag\", \n",
    "                          n_iter=1000, \n",
    "                          verbose=True)\n",
    "remodel.fit(X)\n",
    "print(\"model means:\")\n",
    "print (model.means_)\n",
    "print(\"remodel means:\")\n",
    "print (remodel.means_)\n",
    "print(\"model co-variance:\")\n",
    "print (model.covars_)\n",
    "print(\"remodel co-variance:\")\n",
    "print (remodel.covars_)"
   ]
  },
  {
   "cell_type": "code",
   "execution_count": 7,
   "metadata": {},
   "outputs": [
    {
     "name": "stdout",
     "output_type": "stream",
     "text": [
      "model means:\n",
      "[[  0.5   0. ]\n",
      " [ -2.   -3. ]\n",
      " [  5.   15. ]]\n",
      "remodel means:\n",
      "[[  0.43704512   0.05124881]\n",
      " [  4.95569176  14.9361755 ]\n",
      " [ -1.99260396  -2.97239455]]\n",
      "model co-variance:\n",
      "[[[ 1.  0.]\n",
      "  [ 0.  1.]]\n",
      "\n",
      " [[ 1.  0.]\n",
      "  [ 0.  1.]]\n",
      "\n",
      " [[ 1.  0.]\n",
      "  [ 0.  1.]]]\n",
      "remodel co-variance:\n",
      "[[[ 0.98331224  0.        ]\n",
      "  [ 0.          1.04960133]]\n",
      "\n",
      " [[ 1.01002775  0.        ]\n",
      "  [ 0.          0.91110048]]\n",
      "\n",
      " [[ 0.92220532  0.        ]\n",
      "  [ 0.          0.97564649]]]\n"
     ]
    },
    {
     "name": "stderr",
     "output_type": "stream",
     "text": [
      "C:\\ProgramData\\Anaconda3\\lib\\site-packages\\sklearn\\utils\\deprecation.py:77: DeprecationWarning: Function distribute_covar_matrix_to_match_covariance_type is deprecated; The function distribute_covar_matrix_to_match_covariance_typeis deprecated in 0.18 and will be removed in 0.20.\n",
      "  warnings.warn(msg, category=DeprecationWarning)\n",
      "         1      -11518.0204             +nan\n",
      "         2       -8940.7575       +2577.2628\n",
      "         3       -8040.1128        +900.6447\n",
      "         4       -7850.8296        +189.2832\n",
      "         5       -7539.0852        +311.7445\n",
      "         6       -7382.6605        +156.4247\n",
      "         7       -7360.0102         +22.6503\n",
      "         8       -7355.9574          +4.0529\n",
      "         9       -7355.0542          +0.9032\n",
      "        10       -7354.8480          +0.2062\n",
      "        11       -7354.8011          +0.0469\n",
      "        12       -7354.7905          +0.0106\n",
      "        13       -7354.7881          +0.0024\n",
      "        14       -7354.7876          +0.0005\n",
      "        15       -7354.7874          +0.0001\n",
      "        16       -7354.7874          +0.0000\n"
     ]
    }
   ],
   "source": [
    "# examine the impact of tolerance\n",
    "remodel_2 = hmm.GaussianHMM(n_components=3,algorithm='viterbi',\n",
    "                          tol=0.002,\n",
    "                          startprob_prior=2, \n",
    "                          transmat_prior=1.0,\n",
    "                          min_covar=0.001, \n",
    "                          covariance_type=\"diag\", \n",
    "                          n_iter=1000, \n",
    "                          verbose=True)\n",
    "remodel.fit(X)\n",
    "print(\"model means:\")\n",
    "print (model.means_)\n",
    "print(\"remodel means:\")\n",
    "print (remodel.means_)\n",
    "print(\"model co-variance:\")\n",
    "print (model.covars_)\n",
    "print(\"remodel co-variance:\")\n",
    "print (remodel.covars_)"
   ]
  },
  {
   "cell_type": "code",
   "execution_count": 14,
   "metadata": {},
   "outputs": [
    {
     "name": "stderr",
     "output_type": "stream",
     "text": [
      "C:\\ProgramData\\Anaconda3\\lib\\site-packages\\sklearn\\utils\\deprecation.py:77: DeprecationWarning: Function distribute_covar_matrix_to_match_covariance_type is deprecated; The function distribute_covar_matrix_to_match_covariance_typeis deprecated in 0.18 and will be removed in 0.20.\n",
      "  warnings.warn(msg, category=DeprecationWarning)\n",
      "         1      -11518.0204             +nan\n",
      "         2       -8940.7575       +2577.2628\n",
      "         3       -8040.1128        +900.6447\n",
      "         4       -7850.8296        +189.2832\n",
      "         5       -7539.0852        +311.7445\n",
      "         6       -7382.6605        +156.4247\n",
      "         7       -7360.0102         +22.6503\n",
      "         8       -7355.9574          +4.0529\n",
      "         9       -7355.0542          +0.9032\n",
      "        10       -7354.8480          +0.2062\n",
      "        11       -7354.8011          +0.0469\n",
      "        12       -7354.7905          +0.0106\n",
      "        13       -7354.7881          +0.0024\n",
      "        14       -7354.7876          +0.0005\n",
      "        15       -7354.7874          +0.0001\n",
      "        16       -7354.7874          +0.0000\n"
     ]
    },
    {
     "name": "stdout",
     "output_type": "stream",
     "text": [
      "model means:\n",
      "[[  0.5   0. ]\n",
      " [ -2.   -3. ]\n",
      " [  5.   15. ]]\n",
      "remodel means:\n",
      "[[  4.95569176  14.9361755 ]\n",
      " [ -1.99260396  -2.97239455]\n",
      " [  0.43704512   0.05124881]]\n",
      "model co-variance:\n",
      "[[[ 1.  0.]\n",
      "  [ 0.  1.]]\n",
      "\n",
      " [[ 1.  0.]\n",
      "  [ 0.  1.]]\n",
      "\n",
      " [[ 1.  0.]\n",
      "  [ 0.  1.]]]\n",
      "remodel co-variance:\n",
      "[[[ 1.01002775  0.        ]\n",
      "  [ 0.          0.91110048]]\n",
      "\n",
      " [[ 0.92220532  0.        ]\n",
      "  [ 0.          0.97564649]]\n",
      "\n",
      " [[ 0.98331224  0.        ]\n",
      "  [ 0.          1.04960133]]]\n"
     ]
    }
   ],
   "source": [
    "# examine the impact of tolerance\n",
    "remodel_2 = hmm.GaussianHMM(n_components=3,algorithm='viterbi',\n",
    "                          tol=0.2,\n",
    "                          startprob_prior=2, \n",
    "                          transmat_prior=1.0,\n",
    "                          min_covar=0.001, \n",
    "                          covariance_type=\"diag\", \n",
    "                          n_iter=1000, \n",
    "                          verbose=True)\n",
    "remodel.fit(X)\n",
    "print(\"model means:\")\n",
    "print (model.means_)\n",
    "print(\"remodel means:\")\n",
    "print (remodel.means_)\n",
    "print(\"model co-variance:\")\n",
    "print (model.covars_)\n",
    "print(\"remodel co-variance:\")\n",
    "print (remodel.covars_)"
   ]
  },
  {
   "cell_type": "code",
   "execution_count": 15,
   "metadata": {},
   "outputs": [
    {
     "name": "stdout",
     "output_type": "stream",
     "text": [
      "model means:\n",
      "[[  0.5   0. ]\n",
      " [ -2.   -3. ]\n",
      " [  5.   15. ]]\n",
      "remodel means:\n",
      "[[  0.43704512   0.05124881]\n",
      " [  4.95569176  14.9361755 ]\n",
      " [ -1.99260396  -2.97239455]]\n",
      "model co-variance:\n",
      "[[[ 1.  0.]\n",
      "  [ 0.  1.]]\n",
      "\n",
      " [[ 1.  0.]\n",
      "  [ 0.  1.]]\n",
      "\n",
      " [[ 1.  0.]\n",
      "  [ 0.  1.]]]\n",
      "remodel co-variance:\n",
      "[[[ 0.98331224  0.        ]\n",
      "  [ 0.          1.04960133]]\n",
      "\n",
      " [[ 1.01002775  0.        ]\n",
      "  [ 0.          0.91110048]]\n",
      "\n",
      " [[ 0.92220532  0.        ]\n",
      "  [ 0.          0.97564649]]]\n"
     ]
    },
    {
     "name": "stderr",
     "output_type": "stream",
     "text": [
      "C:\\ProgramData\\Anaconda3\\lib\\site-packages\\sklearn\\utils\\deprecation.py:77: DeprecationWarning: Function distribute_covar_matrix_to_match_covariance_type is deprecated; The function distribute_covar_matrix_to_match_covariance_typeis deprecated in 0.18 and will be removed in 0.20.\n",
      "  warnings.warn(msg, category=DeprecationWarning)\n",
      "         1      -11518.0204             +nan\n",
      "         2       -8940.7575       +2577.2628\n",
      "         3       -8040.1128        +900.6447\n",
      "         4       -7850.8296        +189.2832\n",
      "         5       -7539.0852        +311.7445\n",
      "         6       -7382.6605        +156.4247\n",
      "         7       -7360.0102         +22.6503\n",
      "         8       -7355.9574          +4.0529\n",
      "         9       -7355.0542          +0.9032\n",
      "        10       -7354.8480          +0.2062\n",
      "        11       -7354.8011          +0.0469\n",
      "        12       -7354.7905          +0.0106\n",
      "        13       -7354.7881          +0.0024\n",
      "        14       -7354.7876          +0.0005\n",
      "        15       -7354.7874          +0.0001\n",
      "        16       -7354.7874          +0.0000\n"
     ]
    }
   ],
   "source": [
    "# examine the impact of no. of iteration\n",
    "remodel_2 = hmm.GaussianHMM(n_components=3,algorithm='viterbi',\n",
    "                          tol=0.002,\n",
    "                          startprob_prior=2, \n",
    "                          transmat_prior=1.0,\n",
    "                          min_covar=0.001, \n",
    "                          covariance_type=\"diag\", \n",
    "                          n_iter=100, \n",
    "                          verbose=True)\n",
    "remodel.fit(X)\n",
    "print(\"model means:\")\n",
    "print (model.means_)\n",
    "print(\"remodel means:\")\n",
    "print (remodel.means_)\n",
    "print(\"model co-variance:\")\n",
    "print (model.covars_)\n",
    "print(\"remodel co-variance:\")\n",
    "print (remodel.covars_)"
   ]
  },
  {
   "cell_type": "code",
   "execution_count": null,
   "metadata": {},
   "outputs": [],
   "source": [
    "# examine the impact of no. of iteration\n",
    "remodel_2 = hmm.GaussianHMM(n_components=3,algorithm='viterbi',\n",
    "                          tol=0.002,\n",
    "                          startprob_prior=2, \n",
    "                          transmat_prior=1.0,\n",
    "                          min_covar=0.001, \n",
    "                          covariance_type=\"diag\", \n",
    "                          n_iter=10, \n",
    "                          verbose=True)\n",
    "remodel.fit(X)\n",
    "print(\"model means:\")\n",
    "print (model.means_)\n",
    "print(\"remodel means:\")\n",
    "print (remodel.means_)\n",
    "print(\"model co-variance:\")\n",
    "print (model.covars_)\n",
    "print(\"remodel co-variance:\")\n",
    "print (remodel.covars_)"
   ]
  },
  {
   "cell_type": "code",
   "execution_count": 11,
   "metadata": {},
   "outputs": [
    {
     "name": "stdout",
     "output_type": "stream",
     "text": [
      "[0 0 0 0 0 0 0 0 0 0 0 2 1 0 0 0 0 1 0 1 2 0 1 1 2 2 0 0 0 0 2 2 2 2 1 2 2\n",
      " 1 1 2 1 1 0 0 0 0 0 0 0 0 0 0 2 2 2 2 1 2 2 0 0 0 1 2 2 1 2 2 2 2 2 2 2 2\n",
      " 2 2 2 2 2 2 2 2 1 0 0 0 0 0 0 0 1 0 0 0 0 0 0 0 0 0 0 1 0 0 0 0 2 1 0 1 1\n",
      " 2 1 2 2 2 1 0 2 2 2 2 0 1 0 0 0 0 1 0 0 0 1 1 1 2 2 2 2 2 2 0 0 0 2 2 2 2\n",
      " 0 2 2 1 1 1 1 2 2 0 1 0 0 0 0 2 2 1 0 0 0 0 0 0 0 0 1 1 1 2 2 2 1 1 0 0 0\n",
      " 1 1 1 0 0 0 2 2 1 2 1 1 1 1 1 1 1 1 2 2 2 1 2 1 2 2 2 1 1 0 0 0 1 2 2 2 2\n",
      " 2 1 1 1 1 0 0 2 2 1 2 2 2 2 2 1 0 2 0 0 0 0 0 0 0 2 2 1 0 0 0 0 1 1 0 1 1\n",
      " 1 1 2 2 2 1 1 2 1 1 2 2 2 2 2 1 1 1 1 1 2 2 2 1 0 0 1 1 1 0 0 2 2 0 0 0 0\n",
      " 0 0 2 2 2 2 1 1 1 2 2 1 1 0 1 2 2 1 1 2 2 2 1 1 2 2 2 2 2 2 2 2 1 2 0 2 2\n",
      " 1 2 2 1 1 0 0 0 2 1 1 1 2 1 1 2 1 2 2 2 1 1 1 1 0 0 1 1 2 1 1 1 1 0 1 1 2\n",
      " 2 0 1 2 2 2 1 0 1 1 2 2 2 2 2 2 2 2 2 2 2 1 2 0 0 0 0 0 0 0 0 2 0 1 1 0 0\n",
      " 0 0 0 0 0 0 0 1 2 1 2 2 0 0 0 0 0 0 0 0 1 2 2 2 1 1 1 0 0 0 0 2 2 2 2 2 2\n",
      " 2 1 1 1 1 0 0 2 1 1 0 0 0 0 0 2 1 1 1 0 0 1 2 1 1 1 2 2 1 1 0 2 1 2 1 0 2\n",
      " 2 2 2 0 0 0 2 1 1 1 2 0 0 0 0 0 0 0 1 1 2 2 2 1 1 0 0 0 0 0 0 0 0 2 2 1 1\n",
      " 1 1 2 2 2 2 1 2 2 2 2 2 2 2 2 2 1 0 2 1 2 2 1 0 1 1 1 1 1 0 1 1 1 1 2 2 1\n",
      " 1 0 0 0 1 1 0 0 0 1 0 0 0 0 0 0 0 1 1 1 0 1 0 0 0 0 0 0 0 0 0 1 1 1 1 2 2\n",
      " 2 2 2 2 1 0 0 0 2 1 0 0 0 1 2 2 2 1 0 0 0 1 1 1 0 1 1 1 2 2 2 2 2 1 2 2 2\n",
      " 1 0 0 1 1 2 2 0 0 1 1 2 2 2 2 2 2 2 1 0 0 0 0 1 1 0 0 0 0 2 1 1 1 1 1 0 0\n",
      " 0 1 2 1 1 0 0 1 1 2 2 2 2 1 2 0 0 0 0 0 0 0 0 2 2 1 1 2 1 2 2 2 2 2 1 1 1\n",
      " 2 2 2 2 1 1 2 2 2 2 2 2 2 1 1 1 0 0 0 0 0 1 1 2 0 0 2 1 1 1 2 2 2 2 2 1 0\n",
      " 1 1 2 1 2 2 1 1 0 0 0 0 2 2 1 2 2 2 1 1 2 1 0 1 1 1 2 1 1 1 1 2 2 1 2 2 2\n",
      " 1 1 0 0 0 0 0 0 0 0 0 0 0 2 1 0 0 1 2 2 2 0 0 0 0 0 0 2 2 2 1 0 0 2 2 1 2\n",
      " 2 1 1 0 1 1 0 0 0 0 0 1 1 0 1 1 2 2 1 0 0 0 1 2 1 1 1 2 2 1 1 2 2 2 1 2 2\n",
      " 1 1 1 1 1 1 1 1 2 1 2 1 1 1 0 0 0 1 1 2 2 2 1 1 1 0 0 1 1 2 0 0 0 2 2 1 2\n",
      " 1 1 2 2 2 2 2 2 2 1 2 1 1 1 1 1 1 2 2 2 1 0 0 0 0 0 0 0 0 0 1 0 0 0 0 0 0\n",
      " 0 1 1 1 2 1 1 1 2 1 0 1 0 0 0 1 1 1 0 2 2 2 2 1 1 0 0 1 1 1 1 1 2 0 0 0 1\n",
      " 2 2 2 1 2 2 2 2 2 1 2 2 2 2 2 2 1 1 1 0 1 1 1 1 0 0 1 2 2 2 2 2 0 0 0 1 1\n",
      " 1]\n"
     ]
    }
   ],
   "source": [
    "print Z"
   ]
  },
  {
   "cell_type": "code",
   "execution_count": 12,
   "metadata": {},
   "outputs": [
    {
     "data": {
      "text/plain": [
       "array([0, 0, 0, 0, 0, 0, 0, 0, 0, 0, 0, 1, 2, 0, 0, 0, 0, 2, 0, 2, 1, 0,\n",
       "       2, 2, 1, 1, 0, 0, 0, 0, 1, 1, 1, 1, 2, 1, 1, 2, 2, 1, 2, 2, 0, 0,\n",
       "       0, 0, 0, 0, 0, 0, 0, 0, 1, 1, 1, 1, 2, 1, 1, 0, 0, 0, 2, 1, 1, 2,\n",
       "       1, 1, 1, 1, 1, 1, 1, 1, 1, 1, 1, 1, 1, 1, 1, 1, 2, 2, 0, 0, 0, 0,\n",
       "       0, 0, 2, 0, 0, 0, 0, 0, 0, 0, 0, 0, 0, 2, 0, 0, 0, 0, 1, 2, 0, 2,\n",
       "       2, 1, 2, 1, 1, 1, 2, 0, 1, 1, 1, 1, 0, 2, 0, 0, 0, 0, 2, 0, 0, 0,\n",
       "       2, 2, 2, 1, 1, 1, 1, 1, 1, 0, 0, 0, 1, 1, 1, 1, 0, 1, 1, 2, 2, 2,\n",
       "       2, 1, 1, 0, 2, 0, 0, 0, 0, 1, 1, 2, 0, 0, 0, 0, 0, 0, 0, 0, 2, 2,\n",
       "       2, 1, 1, 1, 2, 2, 0, 0, 0, 2, 2, 2, 0, 0, 0, 1, 1, 2, 1, 2, 2, 2,\n",
       "       2, 2, 2, 2, 2, 1, 1, 1, 2, 1, 2, 1, 1, 1, 2, 2, 0, 0, 0, 2, 1, 1,\n",
       "       1, 1, 1, 2, 2, 2, 2, 0, 0, 1, 1, 2, 1, 1, 1, 1, 1, 2, 0, 1, 0, 0,\n",
       "       0, 0, 2, 2, 0, 1, 1, 2, 0, 0, 0, 0, 2, 2, 0, 2, 2, 2, 2, 1, 1, 1,\n",
       "       2, 2, 1, 2, 2, 1, 1, 1, 1, 1, 2, 2, 2, 2, 2, 1, 1, 1, 2, 0, 0, 2,\n",
       "       2, 2, 0, 0, 1, 1, 0, 0, 0, 0, 0, 0, 1, 1, 1, 1, 2, 2, 2, 1, 1, 2,\n",
       "       2, 0, 2, 1, 1, 2, 2, 1, 1, 1, 2, 2, 1, 1, 1, 1, 1, 1, 1, 1, 2, 1,\n",
       "       2, 1, 1, 2, 1, 1, 2, 2, 0, 0, 0, 1, 2, 2, 2, 1, 2, 2, 1, 2, 1, 1,\n",
       "       1, 2, 2, 2, 2, 0, 0, 2, 2, 1, 2, 2, 2, 2, 0, 2, 2, 1, 1, 0, 2, 1,\n",
       "       1, 1, 2, 0, 2, 2, 1, 1, 1, 1, 1, 1, 1, 1, 1, 1, 1, 2, 1, 0, 0, 0,\n",
       "       0, 0, 0, 0, 0, 1, 0, 2, 2, 0, 0, 0, 0, 0, 0, 0, 0, 0, 2, 1, 2, 1,\n",
       "       1, 0, 0, 0, 0, 0, 0, 0, 0, 2, 1, 1, 1, 2, 2, 2, 0, 0, 0, 0, 1, 1,\n",
       "       1, 1, 1, 1, 1, 2, 2, 2, 2, 0, 0, 1, 2, 2, 0, 0, 0, 0, 0, 1, 2, 2,\n",
       "       2, 0, 0, 2, 1, 2, 2, 2, 1, 1, 2, 2, 0, 1, 2, 1, 2, 0, 1, 1, 1, 1,\n",
       "       0, 0, 0, 1, 2, 2, 2, 1, 0, 0, 0, 0, 0, 0, 0, 2, 2, 1, 1, 1, 2, 2,\n",
       "       0, 0, 0, 0, 0, 0, 0, 0, 1, 1, 2, 2, 2, 2, 1, 1, 1, 1, 2, 1, 1, 1,\n",
       "       1, 1, 1, 1, 1, 1, 2, 0, 1, 2, 1, 1, 2, 0, 2, 2, 2, 2, 2, 0, 2, 2,\n",
       "       2, 2, 1, 1, 2, 2, 0, 0, 0, 2, 2, 0, 0, 0, 2, 0, 0, 0, 0, 0, 0, 0,\n",
       "       2, 2, 2, 0, 2, 0, 0, 0, 0, 0, 0, 0, 0, 0, 2, 2, 2, 2, 1, 1, 1, 1,\n",
       "       1, 1, 2, 2, 0, 0, 1, 2, 0, 0, 0, 2, 1, 1, 1, 2, 0, 0, 0, 2, 2, 2,\n",
       "       0, 2, 2, 2, 1, 1, 1, 1, 1, 2, 1, 1, 1, 2, 0, 0, 2, 2, 1, 1, 0, 0,\n",
       "       2, 2, 1, 1, 1, 1, 1, 1, 1, 2, 0, 0, 0, 0, 2, 2, 0, 0, 0, 0, 1, 2,\n",
       "       2, 2, 2, 2, 0, 0, 0, 2, 1, 2, 2, 0, 0, 2, 2, 1, 1, 1, 1, 2, 1, 0,\n",
       "       0, 0, 0, 0, 0, 0, 0, 1, 1, 2, 2, 1, 2, 1, 1, 1, 1, 1, 2, 2, 2, 1,\n",
       "       1, 1, 1, 2, 2, 1, 1, 1, 1, 1, 1, 1, 2, 2, 2, 0, 0, 0, 0, 0, 2, 2,\n",
       "       1, 0, 0, 1, 2, 2, 2, 1, 1, 1, 1, 1, 2, 0, 2, 2, 1, 2, 1, 1, 2, 2,\n",
       "       0, 0, 0, 0, 1, 1, 2, 1, 1, 1, 2, 2, 1, 2, 0, 2, 2, 2, 1, 2, 2, 2,\n",
       "       2, 1, 1, 2, 1, 1, 1, 2, 2, 0, 0, 0, 0, 0, 0, 0, 0, 0, 0, 0, 1, 2,\n",
       "       0, 0, 2, 1, 1, 1, 0, 0, 0, 0, 0, 0, 1, 1, 1, 2, 0, 0, 1, 1, 2, 1,\n",
       "       1, 2, 2, 0, 2, 2, 0, 0, 0, 0, 0, 2, 2, 0, 2, 2, 1, 1, 2, 0, 0, 0,\n",
       "       2, 1, 2, 2, 2, 1, 1, 2, 2, 1, 1, 1, 2, 1, 1, 2, 2, 2, 2, 2, 2, 2,\n",
       "       2, 1, 2, 1, 2, 2, 2, 0, 0, 0, 2, 2, 1, 1, 1, 2, 2, 2, 0, 0, 2, 2,\n",
       "       1, 0, 0, 0, 1, 1, 2, 1, 2, 2, 1, 1, 1, 1, 1, 1, 1, 2, 1, 2, 2, 2,\n",
       "       2, 2, 2, 1, 1, 1, 2, 0, 0, 0, 0, 0, 0, 0, 0, 0, 2, 0, 0, 0, 0, 2,\n",
       "       0, 0, 2, 2, 2, 1, 2, 2, 2, 1, 2, 0, 2, 0, 0, 0, 2, 2, 2, 0, 1, 1,\n",
       "       1, 1, 2, 2, 0, 0, 2, 2, 2, 2, 2, 1, 0, 0, 0, 2, 1, 1, 1, 2, 1, 1,\n",
       "       1, 1, 1, 2, 1, 1, 1, 1, 1, 1, 2, 2, 2, 0, 0, 2, 2, 2, 0, 0, 2, 1,\n",
       "       1, 1, 1, 1, 0, 0, 0, 2, 2, 2])"
      ]
     },
     "execution_count": 12,
     "metadata": {},
     "output_type": "execute_result"
    }
   ],
   "source": [
    "remodel.predict(X)"
   ]
  },
  {
   "cell_type": "code",
   "execution_count": 13,
   "metadata": {},
   "outputs": [
    {
     "data": {
      "image/png": "[encoded data removed]",
      "text/plain": [
       "<Figure size 432x288 with 1 Axes>"
      ]
     },
     "metadata": {
      "needs_background": "light"
     },
     "output_type": "display_data"
    }
   ],
   "source": [
    "\n",
    "# Plot the sampled data\n",
    "plt.plot(X[:, 0], X[:, 1], \".-\", label=\"observations\", ms=9,\n",
    "         mfc=\"red\", alpha=0.8)\n",
    "\n",
    "# # Indicate the component numbers\n",
    "for i, m in enumerate(model.means_):\n",
    "    plt.text(m[0]+1, m[1]+2, 'Component %i' % (i + 1),\n",
    "             size=17, horizontalalignment='center'\n",
    "             #bbox=dict(alpha=.7, facecolor='w')\n",
    "            )\n",
    "plt.legend(loc='best')\n",
    "plt.show()\n"
   ]
  },
  {
   "cell_type": "code",
   "execution_count": 16,
   "metadata": {},
   "outputs": [
    {
     "name": "stdout",
     "output_type": "stream",
     "text": [
      "[[0.7 0.2 0.1]\n",
      " [0.2 0.5 0.3]\n",
      " [0.1 0.3 0.6]]\n",
      "\n",
      "\n",
      "[[0.70308311 0.10519814 0.19171875]\n",
      " [0.06653623 0.62865497 0.3048088 ]\n",
      " [0.22358038 0.28106225 0.49535737]]\n"
     ]
    }
   ],
   "source": [
    "print (model.transmat_)\n",
    "print ('\\n')\n",
    "print (remodel.transmat_)"
   ]
  },
  {
   "cell_type": "markdown",
   "metadata": {},
   "source": [
    "Labelled N = 6 motion capture. Fox et al introduced a 6 sequence dataset with labels for 12 exercise types, illustrated in Fig. 1. Each sequence has 12 joint angles (wrist, knee, etc.) captured at 0.1 second intervals. Fig. 6 shows that non-adaptive methods struggle even when initialized abundantly with 30 (dashed lines) or 60 (solid) states, while our adaptive methods reach better values of the objective L and cleaner many-to-one alignment to true exercises."
   ]
  },
  {
   "cell_type": "code",
   "execution_count": 27,
   "metadata": {},
   "outputs": [
    {
     "name": "stdout",
     "output_type": "stream",
     "text": [
      "[[ 0.7  0.3]\n",
      " [ 0.4  0.6]]\n",
      "[[ 0.1  0.4  0.5]\n",
      " [ 0.6  0.3  0.1]]\n",
      "[ 0.6  0.4]\n",
      "Bob says: walk, clean, shop, shop, clean, walk\n",
      "Alice hears: Sunny, Rainy, Rainy, Rainy, Rainy, Sunny\n"
     ]
    }
   ],
   "source": [
    "## My Implementation\n",
    "from __future__ import division\n",
    "import numpy as np, random\n",
    "from hmmlearn import hmm\n",
    "\n",
    "states = [\"Rainy\", \"Sunny\"]\n",
    "n_states = len(states)\n",
    "\n",
    "observations = [\"walk\", \"shop\", \"clean\"]\n",
    "n_observations = len(observations)\n",
    "\n",
    "start_probability = np.array([0.6, 0.4])\n",
    "\n",
    "transition_probability = np.array([\n",
    "    [0.7, 0.3],\n",
    "    [0.4, 0.6]\n",
    "])\n",
    "\n",
    "emission_probability = np.array([\n",
    "    [0.1, 0.4, 0.5],\n",
    "    [0.6, 0.3, 0.1]\n",
    "])\n",
    "\n",
    "model = hmm.MultinomialHMM(n_components=n_states, n_iter=1000)\n",
    "model.startprob=start_probability\n",
    "model.transmat=transition_probability\n",
    "model.emissionprob=emission_probability\n",
    "\n",
    "\n",
    "\n",
    "# predict a sequence of hidden states based on visible states                                                                                                                                                    \n",
    "seq = []\n",
    "lengths = []\n",
    "for _ in range(100):\n",
    "    length = random.randint(5, 10)\n",
    "    lengths.append(length)\n",
    "    for _ in range(length):\n",
    "        r = random.random()\n",
    "        if r < .2:\n",
    "            seq.append(0)\n",
    "        elif r < .6:\n",
    "            seq.append(1)\n",
    "        else:\n",
    "            seq.append(2)\n",
    "seq = np.array([seq]).T\n",
    "model = model.fit(seq, lengths)\n",
    "\n",
    "\n",
    "print (model.transmat)\n",
    "print (model.emissionprob)\n",
    "print (model.startprob)\n",
    "\n",
    "\n",
    "bob_says = np.array([[0, 2, 1, 1, 2, 0]]).T\n",
    "logprob, alice_hears = model.decode(bob_says, algorithm=\"viterbi\")\n",
    "print (\"Bob says:\", \", \".join(map(lambda x: observations[x], bob_says.T[0])))\n",
    "print (\"Alice hears:\", \", \".join(map(lambda x: states[x], alice_hears)))\n"
   ]
  }
 ],
 "metadata": {
  "kernelspec": {
   "display_name": "Python 3",
   "language": "python",
   "name": "python3"
  },
  "language_info": {
   "codemirror_mode": {
    "name": "ipython",
    "version": 3
   },
   "file_extension": ".py",
   "mimetype": "text/x-python",
   "name": "python",
   "nbconvert_exporter": "python",
   "pygments_lexer": "ipython3",
   "version": "3.6.4"
  }
 },
 "nbformat": 4,
 "nbformat_minor": 2
}
